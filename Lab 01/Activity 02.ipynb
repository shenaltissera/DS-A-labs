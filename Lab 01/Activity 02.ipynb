{
 "cells": [
  {
   "cell_type": "code",
   "execution_count": 1,
   "id": "8af39bf2",
   "metadata": {},
   "outputs": [],
   "source": [
    "import pandas as pd\n",
    "import matplotlib.pyplot as plt\n",
    "import seaborn as sns\n",
    "import numpy as np"
   ]
  },
  {
   "cell_type": "code",
   "execution_count": 4,
   "id": "7f24ecb1",
   "metadata": {},
   "outputs": [],
   "source": [
    "df_boston = pd.read_csv('Airdata.csv')"
   ]
  },
  {
   "cell_type": "code",
   "execution_count": 5,
   "id": "5f1dab9e",
   "metadata": {},
   "outputs": [
    {
     "data": {
      "text/html": [
       "<div>\n",
       "<style scoped>\n",
       "    .dataframe tbody tr th:only-of-type {\n",
       "        vertical-align: middle;\n",
       "    }\n",
       "\n",
       "    .dataframe tbody tr th {\n",
       "        vertical-align: top;\n",
       "    }\n",
       "\n",
       "    .dataframe thead th {\n",
       "        text-align: right;\n",
       "    }\n",
       "</style>\n",
       "<table border=\"1\" class=\"dataframe\">\n",
       "  <thead>\n",
       "    <tr style=\"text-align: right;\">\n",
       "      <th></th>\n",
       "      <th>DateTime</th>\n",
       "      <th>Temperature</th>\n",
       "      <th>Humidity</th>\n",
       "      <th>Wind_Speed</th>\n",
       "      <th>Wind_Direction</th>\n",
       "      <th>NO2_Location_A</th>\n",
       "      <th>NO2_Location_B</th>\n",
       "      <th>NO2_Location_C</th>\n",
       "    </tr>\n",
       "  </thead>\n",
       "  <tbody>\n",
       "    <tr>\n",
       "      <th>0</th>\n",
       "      <td>1/1/2020 0:00</td>\n",
       "      <td>2.180529</td>\n",
       "      <td>87</td>\n",
       "      <td>1.484318</td>\n",
       "      <td>75.963760</td>\n",
       "      <td>39.23</td>\n",
       "      <td>52.88</td>\n",
       "      <td>62.37</td>\n",
       "    </tr>\n",
       "    <tr>\n",
       "      <th>1</th>\n",
       "      <td>1/1/2020 1:00</td>\n",
       "      <td>1.490529</td>\n",
       "      <td>89</td>\n",
       "      <td>2.741678</td>\n",
       "      <td>113.198590</td>\n",
       "      <td>38.30</td>\n",
       "      <td>44.95</td>\n",
       "      <td>52.53</td>\n",
       "    </tr>\n",
       "    <tr>\n",
       "      <th>2</th>\n",
       "      <td>1/1/2020 2:00</td>\n",
       "      <td>1.690529</td>\n",
       "      <td>85</td>\n",
       "      <td>3.563818</td>\n",
       "      <td>135.000000</td>\n",
       "      <td>NaN</td>\n",
       "      <td>48.40</td>\n",
       "      <td>54.80</td>\n",
       "    </tr>\n",
       "    <tr>\n",
       "      <th>3</th>\n",
       "      <td>1/1/2020 3:00</td>\n",
       "      <td>1.430529</td>\n",
       "      <td>84</td>\n",
       "      <td>2.811690</td>\n",
       "      <td>129.805570</td>\n",
       "      <td>37.28</td>\n",
       "      <td>47.18</td>\n",
       "      <td>50.80</td>\n",
       "    </tr>\n",
       "    <tr>\n",
       "      <th>4</th>\n",
       "      <td>1/1/2020 4:00</td>\n",
       "      <td>0.840529</td>\n",
       "      <td>86</td>\n",
       "      <td>1.800000</td>\n",
       "      <td>126.869896</td>\n",
       "      <td>29.97</td>\n",
       "      <td>41.48</td>\n",
       "      <td>54.43</td>\n",
       "    </tr>\n",
       "  </tbody>\n",
       "</table>\n",
       "</div>"
      ],
      "text/plain": [
       "        DateTime  Temperature  Humidity  Wind_Speed  Wind_Direction  \\\n",
       "0  1/1/2020 0:00     2.180529        87    1.484318       75.963760   \n",
       "1  1/1/2020 1:00     1.490529        89    2.741678      113.198590   \n",
       "2  1/1/2020 2:00     1.690529        85    3.563818      135.000000   \n",
       "3  1/1/2020 3:00     1.430529        84    2.811690      129.805570   \n",
       "4  1/1/2020 4:00     0.840529        86    1.800000      126.869896   \n",
       "\n",
       "   NO2_Location_A  NO2_Location_B  NO2_Location_C  \n",
       "0           39.23           52.88           62.37  \n",
       "1           38.30           44.95           52.53  \n",
       "2             NaN           48.40           54.80  \n",
       "3           37.28           47.18           50.80  \n",
       "4           29.97           41.48           54.43  "
      ]
     },
     "execution_count": 5,
     "metadata": {},
     "output_type": "execute_result"
    }
   ],
   "source": [
    "df_boston.head()"
   ]
  },
  {
   "cell_type": "code",
   "execution_count": 6,
   "id": "b182629b",
   "metadata": {},
   "outputs": [
    {
     "data": {
      "image/png": "[encoded data removed]",
      "text/plain": [
       "<Figure size 640x480 with 1 Axes>"
      ]
     },
     "metadata": {},
     "output_type": "display_data"
    }
   ],
   "source": [
    "sns.boxplot(df_boston['NO2_Location_A'])\n",
    "plt.show()"
   ]
  },
  {
   "cell_type": "markdown",
   "id": "bc9d311e",
   "metadata": {},
   "source": [
    "###Finding The IQR\n"
   ]
  },
  {
   "cell_type": "code",
   "execution_count": 9,
   "id": "c05b9881",
   "metadata": {},
   "outputs": [],
   "source": [
    "percentile25 = df_boston['NO2_Location_A'].quantile(0.25)\n",
    "percentile75 = df_boston['NO2_Location_A'].quantile(0.75)\n",
    "iqr = percentile75-percentile25\n"
   ]
  },
  {
   "cell_type": "markdown",
   "id": "caa2f8a2",
   "metadata": {},
   "source": [
    "###Finding upper and lower limit"
   ]
  },
  {
   "cell_type": "code",
   "execution_count": 10,
   "id": "6cdb04e0",
   "metadata": {},
   "outputs": [],
   "source": [
    "upper_limit = percentile75+(1.5*iqr)"
   ]
  },
  {
   "cell_type": "code",
   "execution_count": 11,
   "id": "22c25d57",
   "metadata": {},
   "outputs": [],
   "source": [
    "lower_limit = percentile25+(1.5*iqr)"
   ]
  },
  {
   "cell_type": "markdown",
   "id": "23b334e1",
   "metadata": {},
   "source": [
    "###Capping"
   ]
  },
  {
   "cell_type": "code",
   "execution_count": 12,
   "id": "9c7a42a4",
   "metadata": {},
   "outputs": [],
   "source": [
    "new_df_cap = df_boston.copy()\n",
    "new_df_cap['NO2_Location_A'] = np.where(\n",
    "    new_df_cap['NO2_Location_A'] >= upper_limit, upper_limit,\n",
    "    np.where(new_df_cap['NO2_Location_A'] <= lower_limit, lower_limit,\n",
    "        new_df_cap['NO2_Location_A']\n",
    "    )\n",
    ")"
   ]
  },
  {
   "cell_type": "markdown",
   "id": "a407fab2",
   "metadata": {},
   "source": [
    "###Draw boxplot after capping"
   ]
  },
  {
   "cell_type": "code",
   "execution_count": 13,
   "id": "070ca8a1",
   "metadata": {},
   "outputs": [
    {
     "data": {
      "image/png": "[encoded data removed]",
      "text/plain": [
       "<Figure size 640x480 with 1 Axes>"
      ]
     },
     "metadata": {},
     "output_type": "display_data"
    }
   ],
   "source": [
    "sns.boxplot(new_df_cap['NO2_Location_A'])\n",
    "plt.show()"
   ]
  },
  {
   "cell_type": "code",
   "execution_count": null,
   "id": "d4a5fbc1",
   "metadata": {},
   "outputs": [],
   "source": []
  }
 ],
 "metadata": {
  "kernelspec": {
   "display_name": "Python 3 (ipykernel)",
   "language": "python",
   "name": "python3"
  },
  "language_info": {
   "codemirror_mode": {
    "name": "ipython",
    "version": 3
   },
   "file_extension": ".py",
   "mimetype": "text/x-python",
   "name": "python",
   "nbconvert_exporter": "python",
   "pygments_lexer": "ipython3",
   "version": "3.11.3"
  }
 },
 "nbformat": 4,
 "nbformat_minor": 5
}
