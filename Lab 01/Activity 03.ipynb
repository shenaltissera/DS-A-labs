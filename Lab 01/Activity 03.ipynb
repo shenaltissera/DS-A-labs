{
 "cells": [
  {
   "cell_type": "markdown",
   "id": "6fa87b78",
   "metadata": {},
   "source": [
    "###Categorical Feature Selection using Chi squared Test"
   ]
  },
  {
   "cell_type": "markdown",
   "id": "19b4757c",
   "metadata": {},
   "source": [
    "###Acquiring dataset and importing all the essential libraries"
   ]
  },
  {
   "cell_type": "code",
   "execution_count": 3,
   "id": "04d7c594",
   "metadata": {},
   "outputs": [],
   "source": [
    "import numpy as np\n",
    "import pandas as pd \n",
    "import matplotlib.pyplot as plt \n",
    "import seaborn as sns\n",
    "from sklearn.feature_selection import chi2\n",
    "from sklearn.model_selection import train_test_split"
   ]
  },
  {
   "cell_type": "code",
   "execution_count": 4,
   "id": "2d1aae27",
   "metadata": {},
   "outputs": [],
   "source": [
    "df=pd.read_csv(\"https://raw.githubusercontent.com/srivatsan88/YouTubeLI/master/dataset/churn_data_st.csv\")"
   ]
  },
  {
   "cell_type": "code",
   "execution_count": 5,
   "id": "acb0915a",
   "metadata": {},
   "outputs": [
    {
     "data": {
      "text/html": [
       "<div>\n",
       "<style scoped>\n",
       "    .dataframe tbody tr th:only-of-type {\n",
       "        vertical-align: middle;\n",
       "    }\n",
       "\n",
       "    .dataframe tbody tr th {\n",
       "        vertical-align: top;\n",
       "    }\n",
       "\n",
       "    .dataframe thead th {\n",
       "        text-align: right;\n",
       "    }\n",
       "</style>\n",
       "<table border=\"1\" class=\"dataframe\">\n",
       "  <thead>\n",
       "    <tr style=\"text-align: right;\">\n",
       "      <th></th>\n",
       "      <th>customerID</th>\n",
       "      <th>gender</th>\n",
       "      <th>SeniorCitizen</th>\n",
       "      <th>tenure</th>\n",
       "      <th>ServiceCount</th>\n",
       "      <th>Contract</th>\n",
       "      <th>PaperlessBilling</th>\n",
       "      <th>MonthlyCharges</th>\n",
       "      <th>TotalCharges</th>\n",
       "      <th>Churn</th>\n",
       "    </tr>\n",
       "  </thead>\n",
       "  <tbody>\n",
       "    <tr>\n",
       "      <th>0</th>\n",
       "      <td>7590-VHVEG</td>\n",
       "      <td>Female</td>\n",
       "      <td>0</td>\n",
       "      <td>1</td>\n",
       "      <td>2</td>\n",
       "      <td>Month-to-month</td>\n",
       "      <td>Yes</td>\n",
       "      <td>29.85</td>\n",
       "      <td>29.85</td>\n",
       "      <td>No</td>\n",
       "    </tr>\n",
       "    <tr>\n",
       "      <th>1</th>\n",
       "      <td>5575-GNVDE</td>\n",
       "      <td>Male</td>\n",
       "      <td>0</td>\n",
       "      <td>34</td>\n",
       "      <td>4</td>\n",
       "      <td>One year</td>\n",
       "      <td>No</td>\n",
       "      <td>56.95</td>\n",
       "      <td>1889.50</td>\n",
       "      <td>No</td>\n",
       "    </tr>\n",
       "    <tr>\n",
       "      <th>2</th>\n",
       "      <td>3668-QPYBK</td>\n",
       "      <td>Male</td>\n",
       "      <td>0</td>\n",
       "      <td>2</td>\n",
       "      <td>4</td>\n",
       "      <td>Month-to-month</td>\n",
       "      <td>Yes</td>\n",
       "      <td>53.85</td>\n",
       "      <td>108.15</td>\n",
       "      <td>Yes</td>\n",
       "    </tr>\n",
       "    <tr>\n",
       "      <th>3</th>\n",
       "      <td>7795-CFOCW</td>\n",
       "      <td>Male</td>\n",
       "      <td>0</td>\n",
       "      <td>45</td>\n",
       "      <td>4</td>\n",
       "      <td>One year</td>\n",
       "      <td>No</td>\n",
       "      <td>42.30</td>\n",
       "      <td>1840.75</td>\n",
       "      <td>No</td>\n",
       "    </tr>\n",
       "    <tr>\n",
       "      <th>4</th>\n",
       "      <td>9237-HQITU</td>\n",
       "      <td>Female</td>\n",
       "      <td>0</td>\n",
       "      <td>2</td>\n",
       "      <td>2</td>\n",
       "      <td>Month-to-month</td>\n",
       "      <td>Yes</td>\n",
       "      <td>70.70</td>\n",
       "      <td>151.65</td>\n",
       "      <td>Yes</td>\n",
       "    </tr>\n",
       "  </tbody>\n",
       "</table>\n",
       "</div>"
      ],
      "text/plain": [
       "   customerID  gender  SeniorCitizen  tenure  ServiceCount        Contract  \\\n",
       "0  7590-VHVEG  Female              0       1             2  Month-to-month   \n",
       "1  5575-GNVDE    Male              0      34             4        One year   \n",
       "2  3668-QPYBK    Male              0       2             4  Month-to-month   \n",
       "3  7795-CFOCW    Male              0      45             4        One year   \n",
       "4  9237-HQITU  Female              0       2             2  Month-to-month   \n",
       "\n",
       "  PaperlessBilling  MonthlyCharges  TotalCharges Churn  \n",
       "0              Yes           29.85         29.85    No  \n",
       "1               No           56.95       1889.50    No  \n",
       "2              Yes           53.85        108.15   Yes  \n",
       "3               No           42.30       1840.75    No  \n",
       "4              Yes           70.70        151.65   Yes  "
      ]
     },
     "execution_count": 5,
     "metadata": {},
     "output_type": "execute_result"
    }
   ],
   "source": [
    "df.head()"
   ]
  },
  {
   "cell_type": "code",
   "execution_count": 6,
   "id": "d0c04b3b",
   "metadata": {},
   "outputs": [
    {
     "data": {
      "text/plain": [
       "customerID           object\n",
       "gender               object\n",
       "SeniorCitizen         int64\n",
       "tenure                int64\n",
       "ServiceCount          int64\n",
       "Contract             object\n",
       "PaperlessBilling     object\n",
       "MonthlyCharges      float64\n",
       "TotalCharges        float64\n",
       "Churn                object\n",
       "dtype: object"
      ]
     },
     "execution_count": 6,
     "metadata": {},
     "output_type": "execute_result"
    }
   ],
   "source": [
    "df.dtypes"
   ]
  },
  {
   "cell_type": "code",
   "execution_count": 7,
   "id": "75746a5e",
   "metadata": {},
   "outputs": [],
   "source": [
    "df[\"gender\"]=df[\"gender\"].map({\"Female\":1,\"Male\":0})\n",
    "df[\"Contract\"]=df[\"Contract\"].map({'Month-to-month':0, 'One year':1, 'Two year':2})\n",
    "df[\"PaperlessBilling\"]=df[\"PaperlessBilling\"].map({\"Yes\":0,\"No\":1})"
   ]
  },
  {
   "cell_type": "code",
   "execution_count": 8,
   "id": "e4c95cda",
   "metadata": {},
   "outputs": [
    {
     "data": {
      "text/html": [
       "<div>\n",
       "<style scoped>\n",
       "    .dataframe tbody tr th:only-of-type {\n",
       "        vertical-align: middle;\n",
       "    }\n",
       "\n",
       "    .dataframe tbody tr th {\n",
       "        vertical-align: top;\n",
       "    }\n",
       "\n",
       "    .dataframe thead th {\n",
       "        text-align: right;\n",
       "    }\n",
       "</style>\n",
       "<table border=\"1\" class=\"dataframe\">\n",
       "  <thead>\n",
       "    <tr style=\"text-align: right;\">\n",
       "      <th></th>\n",
       "      <th>gender</th>\n",
       "      <th>Contract</th>\n",
       "      <th>PaperlessBilling</th>\n",
       "      <th>Churn</th>\n",
       "    </tr>\n",
       "  </thead>\n",
       "  <tbody>\n",
       "    <tr>\n",
       "      <th>0</th>\n",
       "      <td>1</td>\n",
       "      <td>0</td>\n",
       "      <td>0</td>\n",
       "      <td>No</td>\n",
       "    </tr>\n",
       "    <tr>\n",
       "      <th>1</th>\n",
       "      <td>0</td>\n",
       "      <td>1</td>\n",
       "      <td>1</td>\n",
       "      <td>No</td>\n",
       "    </tr>\n",
       "    <tr>\n",
       "      <th>2</th>\n",
       "      <td>0</td>\n",
       "      <td>0</td>\n",
       "      <td>0</td>\n",
       "      <td>Yes</td>\n",
       "    </tr>\n",
       "    <tr>\n",
       "      <th>3</th>\n",
       "      <td>0</td>\n",
       "      <td>1</td>\n",
       "      <td>1</td>\n",
       "      <td>No</td>\n",
       "    </tr>\n",
       "    <tr>\n",
       "      <th>4</th>\n",
       "      <td>1</td>\n",
       "      <td>0</td>\n",
       "      <td>0</td>\n",
       "      <td>Yes</td>\n",
       "    </tr>\n",
       "  </tbody>\n",
       "</table>\n",
       "</div>"
      ],
      "text/plain": [
       "   gender  Contract  PaperlessBilling Churn\n",
       "0       1         0                 0    No\n",
       "1       0         1                 1    No\n",
       "2       0         0                 0   Yes\n",
       "3       0         1                 1    No\n",
       "4       1         0                 0   Yes"
      ]
     },
     "execution_count": 8,
     "metadata": {},
     "output_type": "execute_result"
    }
   ],
   "source": [
    "cat_df=df[[\"gender\",\"Contract\",\"PaperlessBilling\",\"Churn\"]]\n",
    "cat_df.head()"
   ]
  },
  {
   "cell_type": "markdown",
   "id": "f66cea0b",
   "metadata": {},
   "source": [
    "###Applying Chi Squared test"
   ]
  },
  {
   "cell_type": "code",
   "execution_count": 9,
   "id": "55cae102",
   "metadata": {},
   "outputs": [
    {
     "data": {
      "text/plain": [
       "(array([2.63667886e-01, 1.11578017e+03, 1.53480111e+02]),\n",
       " array([6.07611392e-001, 1.22794132e-244, 3.00847449e-035]))"
      ]
     },
     "execution_count": 9,
     "metadata": {},
     "output_type": "execute_result"
    }
   ],
   "source": [
    "#Independent variable\n",
    "x=cat_df.iloc[:,:-1]\n",
    "\n",
    "#Target variable\n",
    "y=cat_df.iloc[:,-1]\n",
    "\n",
    "#returns f score and p value\n",
    "f_score=chi2(x,y)\n",
    "f_score\n",
    "\n"
   ]
  },
  {
   "cell_type": "code",
   "execution_count": 10,
   "id": "dbe10340",
   "metadata": {},
   "outputs": [
    {
     "data": {
      "text/plain": [
       "Contract            1.227941e-244\n",
       "PaperlessBilling     3.008474e-35\n",
       "gender               6.076114e-01\n",
       "dtype: float64"
      ]
     },
     "execution_count": 10,
     "metadata": {},
     "output_type": "execute_result"
    }
   ],
   "source": [
    "p_value=pd.Series(f_score[1],index=x.columns)\n",
    "p_value.sort_values(ascending=True)"
   ]
  },
  {
   "cell_type": "code",
   "execution_count": 11,
   "id": "2b2d259b",
   "metadata": {},
   "outputs": [
    {
     "data": {
      "image/png": "[encoded data removed]",
      "text/plain": [
       "<Figure size 640x480 with 1 Axes>"
      ]
     },
     "metadata": {},
     "output_type": "display_data"
    }
   ],
   "source": [
    "p_value.plot(kind=\"bar\")\n",
    "plt.xlabel(\"Features\",fontsize=20)\n",
    "plt.ylabel(\"p_values\",fontsize=20)\n",
    "plt.title(\"chi squared test base on p value\")\n",
    "plt.show()"
   ]
  },
  {
   "cell_type": "code",
   "execution_count": null,
   "id": "68514597",
   "metadata": {},
   "outputs": [],
   "source": []
  }
 ],
 "metadata": {
  "kernelspec": {
   "display_name": "Python 3 (ipykernel)",
   "language": "python",
   "name": "python3"
  },
  "language_info": {
   "codemirror_mode": {
    "name": "ipython",
    "version": 3
   },
   "file_extension": ".py",
   "mimetype": "text/x-python",
   "name": "python",
   "nbconvert_exporter": "python",
   "pygments_lexer": "ipython3",
   "version": "3.11.3"
  }
 },
 "nbformat": 4,
 "nbformat_minor": 5
}
